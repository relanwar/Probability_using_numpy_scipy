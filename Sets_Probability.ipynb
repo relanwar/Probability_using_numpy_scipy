{
 "cells": [
  {
   "cell_type": "markdown",
   "metadata": {
    "raw_mimetype": "text/latex"
   },
   "source": [
    "# Practicing python built-in functions for sets: Intersection, union and difference of Sets.\n",
    "\n",
    "Best to practice with Venn diagrams\n",
    "    1. Intersection: Elements two sets have in common\n",
    "    2. Union: All the elements from both sets\n",
    "    3. Difference: Elements present on one set, but not on the other\n",
    "    4. Symmetric Difference: Elements from both sets, that are not present on the other\n",
    "    \n"
   ]
  },
  {
   "cell_type": "code",
   "execution_count": 2,
   "metadata": {},
   "outputs": [],
   "source": [
    "AllStudents = {'Ahmed','Mohamed','Wael','Peter','Sherif','Noha','Mona','Sally','Dina','Mary'}\n",
    "EventA = {'Ahmed','Mohamed','Wael','Peter','Sally','Dina','Mary'} #Students who like music\n",
    "EventB = {'Ahmed','Mohamed','Wael','Peter','Sherif','Mary'} #Students who like football\n",
    "EventC = {'Ahmed','Mohamed','Wael','Peter','Mary'} #Students who like both\n"
   ]
  },
  {
   "cell_type": "code",
   "execution_count": 3,
   "metadata": {},
   "outputs": [],
   "source": [
    "def event_probability(event_set, sample_space):\n",
    "    probability = (len(event_set) / len(sample_space)) * 100\n",
    "    return round(probability, 1)\n"
   ]
  },
  {
   "cell_type": "code",
   "execution_count": 4,
   "metadata": {},
   "outputs": [
    {
     "name": "stdout",
     "output_type": "stream",
     "text": [
      "Prob of Students who like music 70.0 %\n",
      "Prob of Students who like football 60.0 %\n",
      "Prob of Students who like both music and football 50.0 %\n"
     ]
    }
   ],
   "source": [
    "ProbOfA = event_probability(EventA, AllStudents)\n",
    "\n",
    "print(\"Prob of Students who like music\",ProbOfA, '%')\n",
    "\n",
    "ProbOfB = event_probability(EventB, AllStudents)\n",
    "\n",
    "print(\"Prob of Students who like football\",ProbOfB, '%')\n",
    "\n",
    "ProbOfC = event_probability(EventC, AllStudents)\n",
    "\n",
    "print(\"Prob of Students who like both music and football\",ProbOfC, '%')"
   ]
  },
  {
   "cell_type": "code",
   "execution_count": 5,
   "metadata": {},
   "outputs": [
    {
     "name": "stdout",
     "output_type": "stream",
     "text": [
      "The probability a random student likes music or football is: 80.0 %\n"
     ]
    }
   ],
   "source": [
    "#What is the probability a random student likes music or football? ==> P(AUB) = P(A) + P(B)\n",
    "\n",
    "print(\"The probability a random student likes music or football is:\", event_probability(EventA.union(EventB), AllStudents), '%')\n"
   ]
  },
  {
   "cell_type": "code",
   "execution_count": 6,
   "metadata": {},
   "outputs": [
    {
     "name": "stdout",
     "output_type": "stream",
     "text": [
      "{'Mona', 'Sherif', 'Noha'}\n",
      "{'Mona', 'Sally', 'Dina', 'Noha'}\n",
      "The probability a random student likes neither music nor football is: 20.0 %\n",
      "The probability a random student likes neither music nor football is: 20.0 %\n"
     ]
    }
   ],
   "source": [
    "# What is the probability that he likes neither of them? ==> P(not A and not B) ==> P(not A). P(not B)\n",
    "\n",
    "Acomplement = AllStudents.difference(EventA)\n",
    "Bcomplement = AllStudents.difference(EventB)\n",
    "print (Acomplement)\n",
    "print (Bcomplement)\n",
    "\n",
    "print(\"The probability a random student likes neither music nor football is:\", event_probability(Acomplement.intersection(Bcomplement), AllStudents), '%')\n",
    "\n",
    "# Also P(not A and not B)  = 1-P(AUB)\n",
    "print(\"The probability a random student likes neither music nor football is:\", 100-event_probability(EventA.union(EventB), AllStudents), '%')"
   ]
  },
  {
   "cell_type": "code",
   "execution_count": 7,
   "metadata": {},
   "outputs": [
    {
     "name": "stdout",
     "output_type": "stream",
     "text": [
      "{'Sally', 'Dina'}\n",
      "The probability a random student likes music but not football is: 20.0 %\n",
      "The probability a random student likes music but not football is: 20.0 %\n"
     ]
    }
   ],
   "source": [
    "#What is the probability that he likes music but not football? ==> P(A and not B)\n",
    "\n",
    "AwithoutB = EventA.intersection(Bcomplement)\n",
    "print(AwithoutB)\n",
    "\n",
    "print(\"The probability a random student likes music but not football is:\", event_probability(EventA.intersection(Bcomplement), AllStudents), '%')\n",
    "\n",
    "# Also P(A\\B) = P(A) -P(A∩B)\n",
    "\n",
    "print(\"The probability a random student likes music but not football is:\", ProbOfA - event_probability(EventA.intersection(EventB), AllStudents), '%')"
   ]
  },
  {
   "cell_type": "code",
   "execution_count": 8,
   "metadata": {},
   "outputs": [
    {
     "name": "stdout",
     "output_type": "stream",
     "text": [
      "{'Sally', 'Sherif', 'Dina'}\n"
     ]
    }
   ],
   "source": [
    "# Try this too\n",
    "\n",
    "D = EventA.symmetric_difference(EventB)\n",
    "print(D)"
   ]
  },
  {
   "cell_type": "code",
   "execution_count": 9,
   "metadata": {},
   "outputs": [
    {
     "name": "stdout",
     "output_type": "stream",
     "text": [
      "{'Peter', 'Wael', 'Mohamed', 'Ahmed', 'Mary'}\n",
      "{'Peter', 'Sally', 'Wael', 'Mohamed', 'Ahmed', 'Dina', 'Mary', 'Sherif'}\n",
      "{'Sally', 'Dina'}\n",
      "{'Sally', 'Sherif', 'Dina'}\n"
     ]
    }
   ],
   "source": [
    "# Try operators instead of functions >> Look nicer\n",
    "\n",
    "print(EventA & EventB) # insersection\n",
    "\n",
    "print(EventA | EventB) # union\n",
    "\n",
    "print(EventA - EventB) # difference\n",
    "\n",
    "print(EventA ^ EventB) # symmetric difference\n"
   ]
  },
  {
   "cell_type": "code",
   "execution_count": 10,
   "metadata": {},
   "outputs": [
    {
     "name": "stderr",
     "output_type": "stream",
     "text": [
      "C:\\Users\\Randa\\Anaconda3\\lib\\site-packages\\matplotlib_venn\\_venn3.py:117: UserWarning: Bad circle positioning\n",
      "  warnings.warn(\"Bad circle positioning\")\n"
     ]
    },
    {
     "data": {
      "image/png": "[encoded data removed]",
      "text/plain": [
       "<Figure size 432x288 with 1 Axes>"
      ]
     },
     "metadata": {},
     "output_type": "display_data"
    }
   ],
   "source": [
    "# You need to install the matplotlib-venn package first using either\n",
    "# $ easy_install matplotlib-venn\n",
    "# or pip install matplotlib-venn\n",
    "# https://github.com/konstantint/matplotlib-venn\n",
    "\n",
    "from matplotlib import pyplot as plt\n",
    "import numpy as np\n",
    "from matplotlib_venn import venn3\n",
    "\n",
    "setA = set(['Ahmed','Mohamed','Wael','Peter','Sally','Dina','Mary'])\n",
    "setB = set(['Ahmed','Mohamed','Wael','Peter','Sherif','Mary'])\n",
    "setC = set(['Ahmed','Mohamed','Wael','Peter','Mary'])\n",
    "\n",
    "venn3([setA, setB, setC], ('A', 'B', 'C'))\n",
    "\n",
    "plt.show()"
   ]
  },
  {
   "cell_type": "code",
   "execution_count": 11,
   "metadata": {},
   "outputs": [
    {
     "data": {
      "image/png": "[encoded data removed]",
      "text/plain": [
       "<Figure size 432x288 with 1 Axes>"
      ]
     },
     "metadata": {},
     "output_type": "display_data"
    }
   ],
   "source": [
    "from matplotlib_venn import venn2\n",
    "\n",
    "venn2([setA, setB])\n",
    "       \n",
    "plt.show()"
   ]
  },
  {
   "cell_type": "code",
   "execution_count": null,
   "metadata": {},
   "outputs": [],
   "source": []
  }
 ],
 "metadata": {
  "celltoolbar": "Raw Cell Format",
  "kernelspec": {
   "display_name": "Python 3",
   "language": "python",
   "name": "python3"
  },
  "language_info": {
   "codemirror_mode": {
    "name": "ipython",
    "version": 3
   },
   "file_extension": ".py",
   "mimetype": "text/x-python",
   "name": "python",
   "nbconvert_exporter": "python",
   "pygments_lexer": "ipython3",
   "version": "3.7.3"
  }
 },
 "nbformat": 4,
 "nbformat_minor": 4
}
